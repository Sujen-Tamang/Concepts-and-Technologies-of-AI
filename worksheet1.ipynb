{
  "nbformat": 4,
  "nbformat_minor": 0,
  "metadata": {
    "colab": {
      "provenance": []
    },
    "kernelspec": {
      "name": "python3",
      "display_name": "Python 3"
    },
    "language_info": {
      "name": "python"
    }
  },
  "cells": [
    {
      "cell_type": "markdown",
      "source": [
        "4 TO - DO - Task"
      ],
      "metadata": {
        "id": "doCldIKFU0lW"
      }
    },
    {
      "cell_type": "markdown",
      "source": [
        "4.1 Warming Up Exercise: Basic Vector and Matrix Operation with Numpy.\n"
      ],
      "metadata": {
        "id": "efqTvG2YU5dN"
      }
    },
    {
      "cell_type": "markdown",
      "source": [
        "Problem - 1: Array Creation:"
      ],
      "metadata": {
        "id": "4480o-2NU8Lh"
      }
    },
    {
      "cell_type": "code",
      "execution_count": 1,
      "metadata": {
        "colab": {
          "base_uri": "https://localhost:8080/"
        },
        "id": "g07rsWHqUn4N",
        "outputId": "0ab8d52b-b1c1-46ab-d9e7-243683f98b2a"
      },
      "outputs": [
        {
          "output_type": "stream",
          "name": "stdout",
          "text": [
            "Empty 2x2 Array:\n",
            " [[4.89770928e-310 0.00000000e+000]\n",
            " [2.60746796e+081 6.94404827e-310]]\n",
            "\n",
            "All Ones 4x2 Array:\n",
            " [[1. 1.]\n",
            " [1. 1.]\n",
            " [1. 1.]\n",
            " [1. 1.]]\n",
            "\n",
            "3x3 Array Filled with 7:\n",
            " [[7 7 7]\n",
            " [7 7 7]\n",
            " [7 7 7]]\n",
            "\n",
            "Zeros Array with Same Shape as Array:\n",
            " [[0 0]\n",
            " [0 0]]\n",
            "\n",
            "Ones Array with Same Shape as Array:\n",
            " [[1 1]\n",
            " [1 1]]\n",
            "\n",
            "List Converted to NumPy Array:\n",
            " [1 2 3 4]\n",
            "\n",
            "--------------------------------------------------\n",
            "\n"
          ]
        }
      ],
      "source": [
        "import numpy as np\n",
        "\n",
        "# 1. Empty 2x2 array\n",
        "empty_array = np.empty((2, 2))\n",
        "print(\"Empty 2x2 Array:\\n\", empty_array)\n",
        "\n",
        "# 2. All ones 4x2 array\n",
        "ones_array = np.ones((4, 2))\n",
        "print(\"\\nAll Ones 4x2 Array:\\n\", ones_array)\n",
        "\n",
        "# 3. Array with specific fill value\n",
        "filled_array = np.full((3, 3), 7)\n",
        "print(\"\\n3x3 Array Filled with 7:\\n\", filled_array)\n",
        "\n",
        "# 4. Zeros array with same shape as another\n",
        "array = np.array([[1, 2], [3, 4]])\n",
        "zeros_like_array = np.zeros_like(array)\n",
        "print(\"\\nZeros Array with Same Shape as Array:\\n\", zeros_like_array)\n",
        "\n",
        "# 5. Ones array with same shape as another\n",
        "ones_like_array = np.ones_like(array)\n",
        "print(\"\\nOnes Array with Same Shape as Array:\\n\", ones_like_array)\n",
        "\n",
        "# 6. Convert list to NumPy array\n",
        "new_list = [1, 2, 3, 4]\n",
        "numpy_array = np.array(new_list)\n",
        "print(\"\\nList Converted to NumPy Array:\\n\", numpy_array)\n",
        "\n",
        "print(\"\\n\" + \"-\" * 50 + \"\\n\")\n"
      ]
    },
    {
      "cell_type": "markdown",
      "source": [
        "Problem - 2: Array Manipulation: Numerical Ranges and Array indexing:"
      ],
      "metadata": {
        "id": "lIF_zEonV7WQ"
      }
    },
    {
      "cell_type": "code",
      "source": [
        "# 1. Array from 10 to 49\n",
        "arr = np.arange(10, 50)\n",
        "print(\"Array from 10 to 49:\\n\", arr)\n",
        "\n",
        "# 2. 3x3 matrix reshaped from 0 to 8\n",
        "matrix = np.arange(9).reshape(3, 3)\n",
        "print(\"\\n3x3 Matrix Reshaped from 0 to 8:\\n\", matrix)\n",
        "\n",
        "# 3. 3x3 identity matrix\n",
        "identity_matrix = np.eye(3)\n",
        "print(\"\\n3x3 Identity Matrix:\\n\", identity_matrix)\n",
        "\n",
        "# 4. Random array of size 30\n",
        "random_array = np.random.random(30)\n",
        "print(\"\\nRandom Array of Size 30:\\n\", random_array)\n",
        "print(\"Mean:\", random_array.mean())\n",
        "\n",
        "# 5. 10x10 random array with min and max\n",
        "array_10x10 = np.random.random((10, 10))\n",
        "print(\"\\n10x10 Random Array:\\n\", array_10x10)\n",
        "print(\"Min:\", array_10x10.min(), \"Max:\", array_10x10.max())\n",
        "\n",
        "# 6. Zero array of size 10 with 5th element as 1\n",
        "zero_array = np.zeros(10)\n",
        "zero_array[4] = 1\n",
        "print(\"\\nZero Array with Fifth Element as 1:\\n\", zero_array)\n",
        "\n",
        "# 7. Reverse an array\n",
        "arr_to_reverse = [1, 2, 0, 0, 4, 0]\n",
        "reversed_array = arr_to_reverse[::-1]\n",
        "print(\"\\nReversed Array:\\n\", reversed_array)\n",
        "\n",
        "# 8. 2D array with 1 on border and 0 inside\n",
        "border_array = np.ones((5, 5))\n",
        "border_array[1:-1, 1:-1] = 0\n",
        "print(\"\\n2D Array with 1 on Border and 0 Inside:\\n\", border_array)\n",
        "\n",
        "# 9. 8x8 checkerboard pattern\n",
        "checkerboard = np.zeros((8, 8), dtype=int)\n",
        "checkerboard[1::2, ::2] = 1\n",
        "checkerboard[::2, 1::2] = 1\n",
        "print(\"\\n8x8 Checkerboard Pattern:\\n\", checkerboard)\n",
        "\n",
        "print(\"\\n\" + \"-\" * 50 + \"\\n\")"
      ],
      "metadata": {
        "colab": {
          "base_uri": "https://localhost:8080/"
        },
        "id": "FMGSNKQFVrNC",
        "outputId": "3c52e288-6ed8-4302-d08a-492b5e3c39ba"
      },
      "execution_count": 2,
      "outputs": [
        {
          "output_type": "stream",
          "name": "stdout",
          "text": [
            "Array from 10 to 49:\n",
            " [10 11 12 13 14 15 16 17 18 19 20 21 22 23 24 25 26 27 28 29 30 31 32 33\n",
            " 34 35 36 37 38 39 40 41 42 43 44 45 46 47 48 49]\n",
            "\n",
            "3x3 Matrix Reshaped from 0 to 8:\n",
            " [[0 1 2]\n",
            " [3 4 5]\n",
            " [6 7 8]]\n",
            "\n",
            "3x3 Identity Matrix:\n",
            " [[1. 0. 0.]\n",
            " [0. 1. 0.]\n",
            " [0. 0. 1.]]\n",
            "\n",
            "Random Array of Size 30:\n",
            " [0.56731312 0.20691242 0.64058835 0.87515235 0.82891097 0.17192574\n",
            " 0.78326077 0.55302087 0.9384584  0.60118311 0.00870836 0.93266577\n",
            " 0.85217624 0.0150231  0.16529258 0.76416373 0.78407229 0.77914791\n",
            " 0.78132019 0.63388448 0.15459057 0.35077014 0.59389858 0.3090604\n",
            " 0.95951765 0.08071581 0.26666801 0.54602368 0.22616835 0.93314302]\n",
            "Mean: 0.5434578992077131\n",
            "\n",
            "10x10 Random Array:\n",
            " [[0.47670712 0.66575847 0.57675452 0.21450899 0.57515314 0.6837775\n",
            "  0.28951513 0.78086867 0.80048698 0.54725971]\n",
            " [0.46782177 0.51026602 0.06084643 0.52847562 0.70124546 0.9192601\n",
            "  0.60541479 0.95566109 0.43093002 0.20540488]\n",
            " [0.71592852 0.76074684 0.02261175 0.41585074 0.67268966 0.96611752\n",
            "  0.44685644 0.97812371 0.41857959 0.04178356]\n",
            " [0.66465136 0.10231948 0.84702927 0.38742625 0.63034879 0.68160864\n",
            "  0.13614889 0.55684744 0.58938172 0.37255458]\n",
            " [0.73995686 0.86095777 0.21498566 0.4269482  0.83559066 0.64971985\n",
            "  0.09662534 0.04095622 0.65628349 0.45682832]\n",
            " [0.34470609 0.11253902 0.39349736 0.85153733 0.7707031  0.85043269\n",
            "  0.87966235 0.11060822 0.92780209 0.13309849]\n",
            " [0.12020632 0.54558404 0.01488785 0.83868309 0.71891367 0.35976735\n",
            "  0.40217625 0.95107429 0.70905302 0.1845537 ]\n",
            " [0.51322478 0.13714374 0.73088585 0.0986137  0.85049444 0.01067867\n",
            "  0.90705785 0.19701476 0.28122742 0.51793302]\n",
            " [0.37545116 0.3707588  0.68792776 0.26922401 0.82609628 0.09302623\n",
            "  0.10755276 0.81584505 0.36218581 0.07491182]\n",
            " [0.65123514 0.35092001 0.83986418 0.87435145 0.00733018 0.88182483\n",
            "  0.12535454 0.15534291 0.07237337 0.38555795]]\n",
            "Min: 0.0073301750295555745 Max: 0.9781237112126966\n",
            "\n",
            "Zero Array with Fifth Element as 1:\n",
            " [0. 0. 0. 0. 1. 0. 0. 0. 0. 0.]\n",
            "\n",
            "Reversed Array:\n",
            " [0, 4, 0, 0, 2, 1]\n",
            "\n",
            "2D Array with 1 on Border and 0 Inside:\n",
            " [[1. 1. 1. 1. 1.]\n",
            " [1. 0. 0. 0. 1.]\n",
            " [1. 0. 0. 0. 1.]\n",
            " [1. 0. 0. 0. 1.]\n",
            " [1. 1. 1. 1. 1.]]\n",
            "\n",
            "8x8 Checkerboard Pattern:\n",
            " [[0 1 0 1 0 1 0 1]\n",
            " [1 0 1 0 1 0 1 0]\n",
            " [0 1 0 1 0 1 0 1]\n",
            " [1 0 1 0 1 0 1 0]\n",
            " [0 1 0 1 0 1 0 1]\n",
            " [1 0 1 0 1 0 1 0]\n",
            " [0 1 0 1 0 1 0 1]\n",
            " [1 0 1 0 1 0 1 0]]\n",
            "\n",
            "--------------------------------------------------\n",
            "\n"
          ]
        }
      ]
    },
    {
      "cell_type": "markdown",
      "source": [
        "Problem - 3: Array Operations:"
      ],
      "metadata": {
        "id": "oeSqlk1-WFgh"
      }
    },
    {
      "cell_type": "code",
      "source": [
        "x = np.array([[1, 2], [3, 5]])\n",
        "y = np.array([[5, 6], [7, 8]])\n",
        "v = np.array([9, 10])\n",
        "w = np.array([11, 12])\n",
        "\n",
        "# 1. Add the two arrays\n",
        "result_add = np.add(x, y)\n",
        "print(\"Addition of x and y:\\n\", result_add)\n",
        "\n",
        "# 2. Subtract the two arrays\n",
        "result_subtract = np.subtract(x, y)\n",
        "print(\"\\nSubtraction of x and y:\\n\", result_subtract)\n",
        "\n",
        "# 3. Multiply the array with any integer\n",
        "result_multiply = x * 2\n",
        "print(\"\\nMultiplication of x by 2:\\n\", result_multiply)\n",
        "\n",
        "# 4. Find the square of each element\n",
        "result_square = np.square(x)\n",
        "print(\"\\nSquare of each element in x:\\n\", result_square)\n",
        "\n",
        "# 5. Dot product\n",
        "dot_v_w = np.dot(v, w)\n",
        "dot_x_v = np.dot(x, v)\n",
        "dot_x_y = np.dot(x, y)\n",
        "print(\"\\nDot Product (v.w):\", dot_v_w)\n",
        "print(\"Dot Product (x.v):\\n\", dot_x_v)\n",
        "print(\"Dot Product (x.y):\\n\", dot_x_y)\n",
        "\n",
        "# 6. Concatenate x and y along rows and v and w along columns\n",
        "concat_xy = np.concatenate((x, y), axis=0)\n",
        "concat_vw = np.vstack((v, w))\n",
        "print(\"\\nConcatenate x and y along rows:\\n\", concat_xy)\n",
        "print(\"Concatenate v and w along columns:\\n\", concat_vw)\n",
        "\n",
        "# 7. Concatenate x and v\n",
        "try:\n",
        "    concat_xv = np.concatenate((x, v), axis=0)\n",
        "except ValueError as e:\n",
        "    print(\"\\nError in concatenating x and v:\", e)\n",
        "    print(\"Explanation: Cannot concatenate arrays with mismatched dimensions.\")\n",
        "\n",
        "print(\"\\n\" + \"-\" * 50 + \"\\n\")\n",
        "\n"
      ],
      "metadata": {
        "colab": {
          "base_uri": "https://localhost:8080/"
        },
        "id": "m6hci4nUVv1C",
        "outputId": "9e5300e9-4974-494c-8ad5-b17d6616a2e9"
      },
      "execution_count": 3,
      "outputs": [
        {
          "output_type": "stream",
          "name": "stdout",
          "text": [
            "Addition of x and y:\n",
            " [[ 6  8]\n",
            " [10 13]]\n",
            "\n",
            "Subtraction of x and y:\n",
            " [[-4 -4]\n",
            " [-4 -3]]\n",
            "\n",
            "Multiplication of x by 2:\n",
            " [[ 2  4]\n",
            " [ 6 10]]\n",
            "\n",
            "Square of each element in x:\n",
            " [[ 1  4]\n",
            " [ 9 25]]\n",
            "\n",
            "Dot Product (v.w): 219\n",
            "Dot Product (x.v):\n",
            " [29 77]\n",
            "Dot Product (x.y):\n",
            " [[19 22]\n",
            " [50 58]]\n",
            "\n",
            "Concatenate x and y along rows:\n",
            " [[1 2]\n",
            " [3 5]\n",
            " [5 6]\n",
            " [7 8]]\n",
            "Concatenate v and w along columns:\n",
            " [[ 9 10]\n",
            " [11 12]]\n",
            "\n",
            "Error in concatenating x and v: all the input arrays must have same number of dimensions, but the array at index 0 has 2 dimension(s) and the array at index 1 has 1 dimension(s)\n",
            "Explanation: Cannot concatenate arrays with mismatched dimensions.\n",
            "\n",
            "--------------------------------------------------\n",
            "\n"
          ]
        }
      ]
    },
    {
      "cell_type": "markdown",
      "source": [
        "Problem - 4: Matrix Operations:"
      ],
      "metadata": {
        "id": "qXvjd6Y0WMSD"
      }
    },
    {
      "cell_type": "code",
      "source": [
        "A = np.array([[3, 4], [7, 8]])\n",
        "B = np.array([[5, 3], [2, 1]])\n",
        "\n",
        "# 1. Prove A * A^-1 = I\n",
        "A_inv = np.linalg.inv(A)\n",
        "identity = np.dot(A, A_inv)\n",
        "print(\"A * A^-1:\\n\", identity)\n",
        "\n",
        "# 2. Prove AB != BA\n",
        "AB = np.dot(A, B)\n",
        "BA = np.dot(B, A)\n",
        "print(\"\\nAB:\\n\", AB)\n",
        "print(\"BA:\\n\", BA)\n",
        "print(\"Are AB and BA equal?\", np.array_equal(AB, BA))\n",
        "\n",
        "# 3. Prove (AB)^T = B^T * A^T\n",
        "AB_T = np.transpose(np.dot(A, B))\n",
        "BT_AT = np.dot(B.T, A.T)\n",
        "print(\"\\n(AB)^T:\\n\", AB_T)\n",
        "print(\"B^T * A^T:\\n\", BT_AT)\n",
        "print(\"Are (AB)^T and B^T * A^T equal?\", np.array_equal(AB_T, BT_AT))\n",
        "\n",
        "# 4. Solve the system of linear equations\n",
        "coefficients = np.array([[2, -3, 1], [1, -1, 2], [3, 1, -1]])\n",
        "constants = np.array([-1, -3, 9])\n",
        "\n",
        "solutions = np.linalg.solve(coefficients, constants)\n",
        "print(\"\\nSolution to the system of equations:\\n\", solutions)\n"
      ],
      "metadata": {
        "colab": {
          "base_uri": "https://localhost:8080/"
        },
        "id": "8oVTP9nIVvAF",
        "outputId": "cf0f4d0f-700a-4635-9c0b-d34c9ebedce4"
      },
      "execution_count": 4,
      "outputs": [
        {
          "output_type": "stream",
          "name": "stdout",
          "text": [
            "A * A^-1:\n",
            " [[1.00000000e+00 0.00000000e+00]\n",
            " [1.77635684e-15 1.00000000e+00]]\n",
            "\n",
            "AB:\n",
            " [[23 13]\n",
            " [51 29]]\n",
            "BA:\n",
            " [[36 44]\n",
            " [13 16]]\n",
            "Are AB and BA equal? False\n",
            "\n",
            "(AB)^T:\n",
            " [[23 51]\n",
            " [13 29]]\n",
            "B^T * A^T:\n",
            " [[23 51]\n",
            " [13 29]]\n",
            "Are (AB)^T and B^T * A^T equal? True\n",
            "\n",
            "Solution to the system of equations:\n",
            " [ 2.  1. -2.]\n"
          ]
        }
      ]
    }
  ]
}